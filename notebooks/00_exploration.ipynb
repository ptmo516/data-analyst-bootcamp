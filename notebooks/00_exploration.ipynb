{
 "cells": [
  {
   "cell_type": "code",
   "execution_count": null,
   "id": "364f4c3e-0572-4b4f-8f15-99d905211a00",
   "metadata": {},
   "outputs": [],
   "source": [
    "import pandas as pd\n",
    "import duckdb\n",
    "import ydata_profiling\n",
    "\n",
    "# set pandas options for readability\n",
    "pd.set_option('display.max_columns', None)\n",
    "pd.set_option('display.width', 120)"
   ]
  },
  {
   "cell_type": "code",
   "execution_count": null,
   "id": "135a7fc0-ec91-4ced-b9e0-fc01353cc3c7",
   "metadata": {},
   "outputs": [],
   "source": [
    "csv_path = \"../data/raw/NOLA_311_Calls_(Historic_Data__2012-2018)_20251004\"\n",
    "df = pd.read_csv(csv_path)\n",
    "\n",
    "df.head()"
   ]
  },
  {
   "cell_type": "code",
   "execution_count": null,
   "id": "bd42667e-591e-44b8-ace5-d08e5ad0b236",
   "metadata": {},
   "outputs": [],
   "source": [
    "profile = ydata_profiling.ProfileReport(df, title=\"311 Data Profile\")\n",
    "profile.to_notebook_iframe()"
   ]
  },
  {
   "cell_type": "code",
   "execution_count": null,
   "id": "cc3b0794-f620-4586-9f71-3ab90af1b30a",
   "metadata": {},
   "outputs": [],
   "source": [
    "query = \"\"\"\n",
    "SELECT borough, COUNT(*) AS requests\n",
    "FROM df\n",
    "GROUP BY borough\n",
    "ORDER BY requests DESC\n",
    "\"\"\"\n",
    "duckdb.query(query).df()"
   ]
  }
 ],
 "metadata": {
  "kernelspec": {
   "display_name": "Python (analyst-practice)",
   "language": "python",
   "name": "analyst-practice"
  },
  "language_info": {
   "codemirror_mode": {
    "name": "ipython",
    "version": 3
   },
   "file_extension": ".py",
   "mimetype": "text/x-python",
   "name": "python",
   "nbconvert_exporter": "python",
   "pygments_lexer": "ipython3",
   "version": "3.11.13"
  }
 },
 "nbformat": 4,
 "nbformat_minor": 5
}
